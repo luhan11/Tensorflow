{
 "cells": [
  {
   "cell_type": "code",
   "execution_count": 1,
   "metadata": {},
   "outputs": [
    {
     "name": "stderr",
     "output_type": "stream",
     "text": [
      "/home/luhan/anaconda3/lib/python3.6/site-packages/h5py/__init__.py:36: FutureWarning: Conversion of the second argument of issubdtype from `float` to `np.floating` is deprecated. In future, it will be treated as `np.float64 == np.dtype(float).type`.\n",
      "  from ._conv import register_converters as _register_converters\n",
      "Using TensorFlow backend.\n"
     ]
    }
   ],
   "source": [
    "from keras.datasets import cifar10        #导入numpy以及cifar10模块\n",
    "import numpy as np\n",
    "np.random.seed(10)"
   ]
  },
  {
   "cell_type": "code",
   "execution_count": 2,
   "metadata": {},
   "outputs": [],
   "source": [
    "(x_image_train,y_label_train),(x_image_test,y_label_test)=cifar10.load_data()          #读取cifar10数据"
   ]
  },
  {
   "cell_type": "code",
   "execution_count": 4,
   "metadata": {},
   "outputs": [
    {
     "name": "stdout",
     "output_type": "stream",
     "text": [
      "train data: images: (50000, 32, 32, 3) label: (50000, 1)\n",
      "test data: images: (10000, 32, 32, 3) labei: (10000, 1)\n"
     ]
    }
   ],
   "source": [
    "print('train data:','images:',x_image_train.shape,'label:',y_label_train.shape)    　　#查看训练数据与验证数据的形状\n",
    "print('test data:','images:',x_image_test.shape,'labei:',y_label_test.shape)"
   ]
  },
  {
   "cell_type": "code",
   "execution_count": 6,
   "metadata": {},
   "outputs": [],
   "source": [
    "x_image_train_normalize = x_image_train.astype('float32')/255.0　　　　　　　　　　　　　#将数字图像标准化\n",
    "x_image_test_normalize = x_image_test.astype('float32')/255.0"
   ]
  },
  {
   "cell_type": "code",
   "execution_count": 7,
   "metadata": {},
   "outputs": [],
   "source": [
    "from keras.utils import np_utils　　　　　　　　　　　　　　　　　　　　　　　　　　　　　　 #导入np_utils模块\n",
    "y_label_train_Onehot = np_utils.to_categorical(y_label_train)　　　　　　　　　　　　　　#将数字图像真实值OneHot Ecoding转换\n",
    "y_label_test_Onehot = np_utils.to_categorical(y_label_test)"
   ]
  },
  {
   "cell_type": "code",
   "execution_count": 8,
   "metadata": {},
   "outputs": [],
   "source": [
    "from keras.models import Sequential                         #导入Sequential，Dense,Dropout,Flatten,Conv2D,MaxPooling2D模块\n",
    "from keras.layers import Dense,Dropout,Activation,Flatten\n",
    "from keras.layers import Conv2D,MaxPooling2D,ZeroPadding2D"
   ]
  },
  {
   "cell_type": "code",
   "execution_count": 9,
   "metadata": {},
   "outputs": [],
   "source": [
    "model=Sequential()                                          #建立Sequential模型"
   ]
  },
  {
   "cell_type": "code",
   "execution_count": 11,
   "metadata": {},
   "outputs": [],
   "source": [
    "model.add(Conv2D(filters=32,kernel_size=(3,3),input_shape=(32,32,3),activation='relu',padding='same'))   #建立卷积层1"
   ]
  },
  {
   "cell_type": "code",
   "execution_count": 13,
   "metadata": {},
   "outputs": [],
   "source": [
    "model.add(Dropout(0.25))                                    #加入Dropout避免过度拟合"
   ]
  },
  {
   "cell_type": "code",
   "execution_count": 19,
   "metadata": {},
   "outputs": [],
   "source": [
    "model.add(MaxPooling2D(pool_size=(2,2)))                    #建立池化层1"
   ]
  },
  {
   "cell_type": "code",
   "execution_count": 21,
   "metadata": {},
   "outputs": [],
   "source": [
    "model.add(Conv2D(filters=64,kernel_size=(3,3),activation='relu',padding='same'))    #建立卷积层2"
   ]
  },
  {
   "cell_type": "code",
   "execution_count": 22,
   "metadata": {},
   "outputs": [],
   "source": [
    "model.add(Dropout(0.25))                                   #加入Dropout避免过度拟合"
   ]
  },
  {
   "cell_type": "code",
   "execution_count": 23,
   "metadata": {},
   "outputs": [],
   "source": [
    "model.add(Flatten())                                       #建立平坦层\n",
    "model.add(Dropout(rate=0.25))                              #加入Dropout避免过度拟合"
   ]
  },
  {
   "cell_type": "code",
   "execution_count": 24,
   "metadata": {},
   "outputs": [],
   "source": [
    "model.add(Dense(1024,activation='relu'))                   #建立隐藏层\n",
    "model.add(Dropout(0.25))                                   #加入Dropout避免过度拟合"
   ]
  },
  {
   "cell_type": "code",
   "execution_count": 27,
   "metadata": {},
   "outputs": [],
   "source": [
    "model.add(Dense(10,activation='softmax'))                  #建立输出层"
   ]
  },
  {
   "cell_type": "code",
   "execution_count": 29,
   "metadata": {},
   "outputs": [
    {
     "name": "stdout",
     "output_type": "stream",
     "text": [
      "_________________________________________________________________\n",
      "Layer (type)                 Output Shape              Param #   \n",
      "=================================================================\n",
      "conv2d_1 (Conv2D)            (None, 32, 32, 32)        896       \n",
      "_________________________________________________________________\n",
      "dropout_1 (Dropout)          (None, 32, 32, 32)        0         \n",
      "_________________________________________________________________\n",
      "dropout_2 (Dropout)          (None, 32, 32, 32)        0         \n",
      "_________________________________________________________________\n",
      "max_pooling2d_1 (MaxPooling2 (None, 16, 16, 32)        0         \n",
      "_________________________________________________________________\n",
      "conv2d_2 (Conv2D)            (None, 16, 16, 64)        18496     \n",
      "_________________________________________________________________\n",
      "dropout_3 (Dropout)          (None, 16, 16, 64)        0         \n",
      "_________________________________________________________________\n",
      "flatten_1 (Flatten)          (None, 16384)             0         \n",
      "_________________________________________________________________\n",
      "dropout_4 (Dropout)          (None, 16384)             0         \n",
      "_________________________________________________________________\n",
      "dense_1 (Dense)              (None, 1024)              16778240  \n",
      "_________________________________________________________________\n",
      "dropout_5 (Dropout)          (None, 1024)              0         \n",
      "_________________________________________________________________\n",
      "dense_2 (Dense)              (None, 10)                10250     \n",
      "=================================================================\n",
      "Total params: 16,807,882\n",
      "Trainable params: 16,807,882\n",
      "Non-trainable params: 0\n",
      "_________________________________________________________________\n",
      "None\n"
     ]
    }
   ],
   "source": [
    "print(model.summary())"
   ]
  },
  {
   "cell_type": "code",
   "execution_count": 30,
   "metadata": {},
   "outputs": [],
   "source": [
    "model.compile(loss='categorical_crossentropy',optimizer='adam',metrics=['accuracy'])    #定义训练方式"
   ]
  },
  {
   "cell_type": "code",
   "execution_count": 31,
   "metadata": {},
   "outputs": [
    {
     "name": "stdout",
     "output_type": "stream",
     "text": [
      "Train on 40000 samples, validate on 10000 samples\n",
      "Epoch 1/10\n",
      "40000/40000 [==============================] - 125s 3ms/step - loss: 1.8297 - acc: 0.3498 - val_loss: 1.5230 - val_acc: 0.4832\n",
      "Epoch 2/10\n",
      "40000/40000 [==============================] - 125s 3ms/step - loss: 1.3334 - acc: 0.5201 - val_loss: 1.3150 - val_acc: 0.5834\n",
      "Epoch 3/10\n",
      "40000/40000 [==============================] - 125s 3ms/step - loss: 1.1460 - acc: 0.5911 - val_loss: 1.1869 - val_acc: 0.6034\n",
      "Epoch 4/10\n",
      "40000/40000 [==============================] - 124s 3ms/step - loss: 1.0166 - acc: 0.6386 - val_loss: 1.1390 - val_acc: 0.6122\n",
      "Epoch 5/10\n",
      "40000/40000 [==============================] - 124s 3ms/step - loss: 0.9040 - acc: 0.6764 - val_loss: 1.0678 - val_acc: 0.6453\n",
      "Epoch 6/10\n",
      "40000/40000 [==============================] - 126s 3ms/step - loss: 0.7922 - acc: 0.7188 - val_loss: 0.9940 - val_acc: 0.6572\n",
      "Epoch 7/10\n",
      "40000/40000 [==============================] - 123s 3ms/step - loss: 0.6875 - acc: 0.7555 - val_loss: 1.0252 - val_acc: 0.6415\n",
      "Epoch 8/10\n",
      "40000/40000 [==============================] - 124s 3ms/step - loss: 0.5966 - acc: 0.7889 - val_loss: 0.9558 - val_acc: 0.6645\n",
      "Epoch 9/10\n",
      "40000/40000 [==============================] - 123s 3ms/step - loss: 0.5079 - acc: 0.8194 - val_loss: 0.9673 - val_acc: 0.6653\n",
      "Epoch 10/10\n",
      "40000/40000 [==============================] - 123s 3ms/step - loss: 0.4354 - acc: 0.8486 - val_loss: 0.9672 - val_acc: 0.6656\n"
     ]
    }
   ],
   "source": [
    "train_history=model.fit(x_image_train_normalize,y_label_train_Onehot,validation_split=0.2,epochs=10,batch_size=128,verbose=1)"
   ]
  },
  {
   "cell_type": "code",
   "execution_count": 32,
   "metadata": {},
   "outputs": [],
   "source": [
    "import matplotlib.pyplot as plt                       #建立show_train_history显示训练过程\n",
    "def show_train_history(train_history,train,test):\n",
    "    plt.plot(train_history.history[train])\n",
    "    plt.plot(train_history.history[test])\n",
    "    plt.title('Train History')\n",
    "    plt.ylabel(train)\n",
    "    plt.xlabel('Epoch')\n",
    "    plt.legend(['train','test'],loc = 'upper left')\n",
    "    plt.show()"
   ]
  },
  {
   "cell_type": "code",
   "execution_count": 34,
   "metadata": {},
   "outputs": [
    {
     "data": {
      "image/png": "[encoded data removed]",
      "text/plain": [
       "<Figure size 432x288 with 1 Axes>"
      ]
     },
     "metadata": {},
     "output_type": "display_data"
    }
   ],
   "source": [
    "show_train_history(train_history,'acc','val_acc')    #进行准确率评估"
   ]
  },
  {
   "cell_type": "code",
   "execution_count": 35,
   "metadata": {},
   "outputs": [
    {
     "data": {
      "image/png": "[encoded data removed]",
      "text/plain": [
       "<Figure size 432x288 with 1 Axes>"
      ]
     },
     "metadata": {},
     "output_type": "display_data"
    }
   ],
   "source": [
    "show_train_history(train_history,'loss','val_loss')  #进行误差评估"
   ]
  },
  {
   "cell_type": "code",
   "execution_count": 42,
   "metadata": {},
   "outputs": [
    {
     "data": {
      "text/plain": [
       "0.6668"
      ]
     },
     "execution_count": 42,
     "metadata": {},
     "output_type": "execute_result"
    }
   ],
   "source": [
    "scores = model.evaluate (x_image_test_normalize,y_label_test_Onehot,verbose=0)    #评估模型准确率\n",
    "scores[1]"
   ]
  },
  {
   "cell_type": "code",
   "execution_count": 44,
   "metadata": {},
   "outputs": [],
   "source": [
    "prediction=model.predict_classes(x_image_test_normalize)         #执行预测"
   ]
  },
  {
   "cell_type": "code",
   "execution_count": 45,
   "metadata": {},
   "outputs": [
    {
     "data": {
      "text/plain": [
       "array([3, 1, 8, 0, 6, 6, 1, 6, 3, 1])"
      ]
     },
     "execution_count": 45,
     "metadata": {},
     "output_type": "execute_result"
    }
   ],
   "source": [
    "prediction[:10]"
   ]
  },
  {
   "cell_type": "code",
   "execution_count": 47,
   "metadata": {},
   "outputs": [],
   "source": [
    "import matplotlib.pyplot as plt                             #创建plot_images_labels_prediction函数\n",
    "def plot_images_labels_prediction(images,labels,prediction,idx,num=10):\n",
    "    fig = plt.gcf()\n",
    "    fig.set_size_inches(12,14)\n",
    "    if num>25: num =25\n",
    "    for i in range(0, num):\n",
    "        ax=plt.subplot(5,5,1+i)\n",
    "        ax.imshow(images[idx],cmap='binary')\n",
    "        title='label='+str(prediction[idx])\n",
    "        if len(prediction)>0:\n",
    "            title+=',predict='+str(prediction[idx])\n",
    "        ax.set_title(title,fontsize=10)\n",
    "        ax.set_xticks([]);ax.set_yticks([])\n",
    "        idx+=1\n",
    "    plt.show"
   ]
  },
  {
   "cell_type": "code",
   "execution_count": 48,
   "metadata": {},
   "outputs": [
    {
     "data": {
      "image/png": "[encoded data removed]",
      "text/plain": [
       "<Figure size 864x1008 with 10 Axes>"
      ]
     },
     "metadata": {},
     "output_type": "display_data"
    }
   ],
   "source": [
    "plot_images_labels_prediction(x_image_test,y_label_test,prediction,0,10)          #显示前10项预测结果"
   ]
  },
  {
   "cell_type": "code",
   "execution_count": 63,
   "metadata": {},
   "outputs": [],
   "source": [
    "predicted_probability=model.predict(x_image_test_normalize)        #使用测试数据进行预测"
   ]
  },
  {
   "cell_type": "code",
   "execution_count": 66,
   "metadata": {},
   "outputs": [],
   "source": [
    "def show_predicted_probability(y,prediction,x_image,predicted_probability,i):   #建立show_predicted_probability函数\n",
    "    print('label:',label_dict[y[i][0]],'predict',label_dict[prediction[i]])\n",
    "    plt.figure(figsize=(2,2))\n",
    "    plt.imshow(np.reshape(x_image_test[i],(32,32,3)))\n",
    "    plt.show()\n",
    "    for j in range(10):\n",
    "        print(label_dict[j]+'probability:%1.9f'%(predicted_probability[i][j]))\n",
    "label_dict={0:'airplane',1:'automoble',2:'bird',3:'cat',4:'deer',5:'dog',6:'frog',7:'horse',8:'ship',9:'truck'}"
   ]
  },
  {
   "cell_type": "code",
   "execution_count": 67,
   "metadata": {},
   "outputs": [
    {
     "name": "stdout",
     "output_type": "stream",
     "text": [
      "label: cat predict cat\n"
     ]
    },
    {
     "data": {
      "image/png": "[encoded data removed]",
      "text/plain": [
       "<Figure size 144x144 with 1 Axes>"
      ]
     },
     "metadata": {},
     "output_type": "display_data"
    },
    {
     "name": "stdout",
     "output_type": "stream",
     "text": [
      "airplaneprobability:0.002195015\n",
      "automobleprobability:0.000905591\n",
      "birdprobability:0.021204598\n",
      "catprobability:0.600571275\n",
      "deerprobability:0.079567812\n",
      "dogprobability:0.261526287\n",
      "frogprobability:0.024176843\n",
      "horseprobability:0.002047568\n",
      "shipprobability:0.007212386\n",
      "truckprobability:0.000592610\n"
     ]
    }
   ],
   "source": [
    "show_predicted_probability(y_label_test,prediction,x_image_test,predicted_probability,0) 　　 #查看第0项数据预测概率"
   ]
  },
  {
   "cell_type": "code",
   "execution_count": 68,
   "metadata": {},
   "outputs": [
    {
     "name": "stdout",
     "output_type": "stream",
     "text": [
      "label: airplane predict airplane\n"
     ]
    },
    {
     "data": {
      "image/png": "[encoded data removed]",
      "text/plain": [
       "<Figure size 144x144 with 1 Axes>"
      ]
     },
     "metadata": {},
     "output_type": "display_data"
    },
    {
     "name": "stdout",
     "output_type": "stream",
     "text": [
      "airplaneprobability:0.731823921\n",
      "automobleprobability:0.008953031\n",
      "birdprobability:0.023260053\n",
      "catprobability:0.002134408\n",
      "deerprobability:0.040461414\n",
      "dogprobability:0.000168507\n",
      "frogprobability:0.000186852\n",
      "horseprobability:0.001450034\n",
      "shipprobability:0.190120861\n",
      "truckprobability:0.001440848\n"
     ]
    }
   ],
   "source": [
    "show_predicted_probability(y_label_test,prediction,x_image_test,predicted_probability,3)    #查看第3项数据预测概率"
   ]
  },
  {
   "cell_type": "code",
   "execution_count": 69,
   "metadata": {},
   "outputs": [
    {
     "data": {
      "text/plain": [
       "(10000,)"
      ]
     },
     "execution_count": 69,
     "metadata": {},
     "output_type": "execute_result"
    }
   ],
   "source": [
    "prediction.shape               #查看预测结果形状"
   ]
  },
  {
   "cell_type": "code",
   "execution_count": 70,
   "metadata": {},
   "outputs": [
    {
     "data": {
      "text/plain": [
       "(10000, 1)"
      ]
     },
     "execution_count": 70,
     "metadata": {},
     "output_type": "execute_result"
    }
   ],
   "source": [
    "y_label_test.shape　　　　　　　 #查看y_label_test真实值形状"
   ]
  },
  {
   "cell_type": "code",
   "execution_count": 71,
   "metadata": {},
   "outputs": [
    {
     "data": {
      "text/plain": [
       "array([3, 8, 8, ..., 5, 1, 7])"
      ]
     },
     "execution_count": 71,
     "metadata": {},
     "output_type": "execute_result"
    }
   ],
   "source": [
    "y_label_test.reshape(-1)　　　　#将y_label_test真实值转为一维数组"
   ]
  },
  {
   "cell_type": "code",
   "execution_count": 72,
   "metadata": {},
   "outputs": [
    {
     "name": "stdout",
     "output_type": "stream",
     "text": [
      "{0: 'airplane', 1: 'automoble', 2: 'bird', 3: 'cat', 4: 'deer', 5: 'dog', 6: 'frog', 7: 'horse', 8: 'ship', 9: 'truck'}\n"
     ]
    },
    {
     "data": {
      "text/html": [
       "<div>\n",
       "<style scoped>\n",
       "    .dataframe tbody tr th:only-of-type {\n",
       "        vertical-align: middle;\n",
       "    }\n",
       "\n",
       "    .dataframe tbody tr th {\n",
       "        vertical-align: top;\n",
       "    }\n",
       "\n",
       "    .dataframe thead th {\n",
       "        text-align: right;\n",
       "    }\n",
       "</style>\n",
       "<table border=\"1\" class=\"dataframe\">\n",
       "  <thead>\n",
       "    <tr style=\"text-align: right;\">\n",
       "      <th>predict</th>\n",
       "      <th>0</th>\n",
       "      <th>1</th>\n",
       "      <th>2</th>\n",
       "      <th>3</th>\n",
       "      <th>4</th>\n",
       "      <th>5</th>\n",
       "      <th>6</th>\n",
       "      <th>7</th>\n",
       "      <th>8</th>\n",
       "      <th>9</th>\n",
       "    </tr>\n",
       "    <tr>\n",
       "      <th>label</th>\n",
       "      <th></th>\n",
       "      <th></th>\n",
       "      <th></th>\n",
       "      <th></th>\n",
       "      <th></th>\n",
       "      <th></th>\n",
       "      <th></th>\n",
       "      <th></th>\n",
       "      <th></th>\n",
       "      <th></th>\n",
       "    </tr>\n",
       "  </thead>\n",
       "  <tbody>\n",
       "    <tr>\n",
       "      <th>0</th>\n",
       "      <td>658</td>\n",
       "      <td>10</td>\n",
       "      <td>67</td>\n",
       "      <td>28</td>\n",
       "      <td>46</td>\n",
       "      <td>21</td>\n",
       "      <td>36</td>\n",
       "      <td>12</td>\n",
       "      <td>87</td>\n",
       "      <td>35</td>\n",
       "    </tr>\n",
       "    <tr>\n",
       "      <th>1</th>\n",
       "      <td>13</td>\n",
       "      <td>758</td>\n",
       "      <td>10</td>\n",
       "      <td>9</td>\n",
       "      <td>14</td>\n",
       "      <td>10</td>\n",
       "      <td>45</td>\n",
       "      <td>5</td>\n",
       "      <td>30</td>\n",
       "      <td>106</td>\n",
       "    </tr>\n",
       "    <tr>\n",
       "      <th>2</th>\n",
       "      <td>48</td>\n",
       "      <td>1</td>\n",
       "      <td>471</td>\n",
       "      <td>45</td>\n",
       "      <td>213</td>\n",
       "      <td>50</td>\n",
       "      <td>138</td>\n",
       "      <td>18</td>\n",
       "      <td>12</td>\n",
       "      <td>4</td>\n",
       "    </tr>\n",
       "    <tr>\n",
       "      <th>3</th>\n",
       "      <td>8</td>\n",
       "      <td>6</td>\n",
       "      <td>54</td>\n",
       "      <td>402</td>\n",
       "      <td>175</td>\n",
       "      <td>154</td>\n",
       "      <td>165</td>\n",
       "      <td>22</td>\n",
       "      <td>5</td>\n",
       "      <td>9</td>\n",
       "    </tr>\n",
       "    <tr>\n",
       "      <th>4</th>\n",
       "      <td>8</td>\n",
       "      <td>1</td>\n",
       "      <td>34</td>\n",
       "      <td>28</td>\n",
       "      <td>765</td>\n",
       "      <td>20</td>\n",
       "      <td>109</td>\n",
       "      <td>25</td>\n",
       "      <td>9</td>\n",
       "      <td>1</td>\n",
       "    </tr>\n",
       "    <tr>\n",
       "      <th>5</th>\n",
       "      <td>5</td>\n",
       "      <td>3</td>\n",
       "      <td>41</td>\n",
       "      <td>131</td>\n",
       "      <td>133</td>\n",
       "      <td>558</td>\n",
       "      <td>91</td>\n",
       "      <td>33</td>\n",
       "      <td>1</td>\n",
       "      <td>4</td>\n",
       "    </tr>\n",
       "    <tr>\n",
       "      <th>6</th>\n",
       "      <td>2</td>\n",
       "      <td>2</td>\n",
       "      <td>13</td>\n",
       "      <td>27</td>\n",
       "      <td>53</td>\n",
       "      <td>12</td>\n",
       "      <td>883</td>\n",
       "      <td>2</td>\n",
       "      <td>5</td>\n",
       "      <td>1</td>\n",
       "    </tr>\n",
       "    <tr>\n",
       "      <th>7</th>\n",
       "      <td>8</td>\n",
       "      <td>2</td>\n",
       "      <td>25</td>\n",
       "      <td>31</td>\n",
       "      <td>178</td>\n",
       "      <td>67</td>\n",
       "      <td>30</td>\n",
       "      <td>650</td>\n",
       "      <td>2</td>\n",
       "      <td>7</td>\n",
       "    </tr>\n",
       "    <tr>\n",
       "      <th>8</th>\n",
       "      <td>41</td>\n",
       "      <td>36</td>\n",
       "      <td>15</td>\n",
       "      <td>17</td>\n",
       "      <td>26</td>\n",
       "      <td>13</td>\n",
       "      <td>25</td>\n",
       "      <td>1</td>\n",
       "      <td>800</td>\n",
       "      <td>26</td>\n",
       "    </tr>\n",
       "    <tr>\n",
       "      <th>9</th>\n",
       "      <td>34</td>\n",
       "      <td>88</td>\n",
       "      <td>13</td>\n",
       "      <td>27</td>\n",
       "      <td>20</td>\n",
       "      <td>12</td>\n",
       "      <td>39</td>\n",
       "      <td>15</td>\n",
       "      <td>29</td>\n",
       "      <td>723</td>\n",
       "    </tr>\n",
       "  </tbody>\n",
       "</table>\n",
       "</div>"
      ],
      "text/plain": [
       "predict    0    1    2    3    4    5    6    7    8    9\n",
       "label                                                    \n",
       "0        658   10   67   28   46   21   36   12   87   35\n",
       "1         13  758   10    9   14   10   45    5   30  106\n",
       "2         48    1  471   45  213   50  138   18   12    4\n",
       "3          8    6   54  402  175  154  165   22    5    9\n",
       "4          8    1   34   28  765   20  109   25    9    1\n",
       "5          5    3   41  131  133  558   91   33    1    4\n",
       "6          2    2   13   27   53   12  883    2    5    1\n",
       "7          8    2   25   31  178   67   30  650    2    7\n",
       "8         41   36   15   17   26   13   25    1  800   26\n",
       "9         34   88   13   27   20   12   39   15   29  723"
      ]
     },
     "execution_count": 72,
     "metadata": {},
     "output_type": "execute_result"
    }
   ],
   "source": [
    "import pandas as pd            #使用pandas crosstab建立混淆矩阵\n",
    "print(label_dict)\n",
    "pd.crosstab(y_label_test.reshape(-1),prediction,rownames=['label'],colnames=['predict'])"
   ]
  },
  {
   "cell_type": "code",
   "execution_count": 16,
   "metadata": {},
   "outputs": [],
   "source": [
    "from keras.datasets import cifar10                        #导入numpy以及cifar10模块\n",
    "import numpy as np\n",
    "np.random.seed(10)\n",
    "(x_image_train,y_label_train),(x_image_test,y_label_test)=cifar10.load_data()       #读取cifar10数据\n",
    "x_image_train_normalize = x_image_train.astype('float32')/255.0                     #将数字图像标准化\n",
    "x_image_test_normalize = x_image_test.astype('float32')/255.0\n",
    "from keras.utils import np_utils                                                    #将数字图像真实值OneHot Ecoding转换\n",
    "y_label_train_Onehot = np_utils.to_categorical(y_label_train)\n",
    "y_label_test_Onehot = np_utils.to_categorical(y_label_test)\n",
    "from keras.models import Sequential                        #导入Sequential，Dense,Dropout,Flatten,Conv2D,MaxPooling2D模块\n",
    "from keras.layers import Dense,Dropout,Activation,Flatten\n",
    "from keras.layers import Conv2D,MaxPooling2D,ZeroPadding2D\n",
    "model=Sequential()                                         #建立Sequential模型"
   ]
  },
  {
   "cell_type": "code",
   "execution_count": 17,
   "metadata": {},
   "outputs": [],
   "source": [
    "#建立卷积层1与池化层１\n",
    "model.add(Conv2D(filters=32,kernel_size=(3,3),input_shape=(32,32,3),activation='relu',padding='same'))\n",
    "model.add(Dropout(0.3))\n",
    "model.add(Conv2D(filters=32,kernel_size=(3,3),activation='relu',padding='same'))\n",
    "model.add(MaxPooling2D(pool_size=(2,2)))"
   ]
  },
  {
   "cell_type": "code",
   "execution_count": 18,
   "metadata": {},
   "outputs": [],
   "source": [
    "#建立卷积层2与池化层2\n",
    "model.add(Conv2D(filters=64,kernel_size=(3,3),activation='relu',padding='same'))\n",
    "model.add(Dropout(0.3))\n",
    "model.add(Conv2D(filters=64,kernel_size=(3,3),activation='relu',padding='same'))\n",
    "model.add(MaxPooling2D(pool_size=(2,2)))"
   ]
  },
  {
   "cell_type": "code",
   "execution_count": 19,
   "metadata": {},
   "outputs": [],
   "source": [
    "#建立卷积层3与池化层3\n",
    "model.add(Conv2D(filters=128,kernel_size=(3,3),activation='relu',padding='same'))\n",
    "model.add(Dropout(0.3))\n",
    "model.add(Conv2D(filters=128,kernel_size=(3,3),activation='relu',padding='same'))\n",
    "model.add(MaxPooling2D(pool_size=(2,2)))"
   ]
  },
  {
   "cell_type": "code",
   "execution_count": 20,
   "metadata": {},
   "outputs": [],
   "source": [
    "#建立神经网络（平坦层　隐藏层1　隐藏层2　输出层）\n",
    "model.add(Flatten())\n",
    "model.add(Dropout(0.3))\n",
    "model.add(Dense(2500,activation='relu'))\n",
    "model.add(Dropout(0.3))\n",
    "model.add(Dense(1500,activation='relu'))\n",
    "model.add(Dropout(0.3))\n",
    "model.add(Dense(10,activation='softmax'))"
   ]
  },
  {
   "cell_type": "code",
   "execution_count": 21,
   "metadata": {},
   "outputs": [],
   "source": [
    "model.compile(loss='categorical_crossentropy',optimizer='adam',metrics=['accuracy'])     #定义训练方式"
   ]
  },
  {
   "cell_type": "code",
   "execution_count": null,
   "metadata": {},
   "outputs": [
    {
     "name": "stdout",
     "output_type": "stream",
     "text": [
      "Train on 40000 samples, validate on 10000 samples\n",
      "Epoch 1/50\n",
      "40000/40000 [==============================] - 174s 4ms/step - loss: 2.0203 - acc: 0.2469 - val_loss: 1.9418 - val_acc: 0.2965\n",
      "Epoch 2/50\n",
      "40000/40000 [==============================] - 173s 4ms/step - loss: 1.5537 - acc: 0.4227 - val_loss: 1.6297 - val_acc: 0.4200\n",
      "Epoch 3/50\n",
      "40000/40000 [==============================] - 172s 4ms/step - loss: 1.3416 - acc: 0.5093 - val_loss: 1.3545 - val_acc: 0.5064\n",
      "Epoch 4/50\n",
      "40000/40000 [==============================] - 175s 4ms/step - loss: 1.1861 - acc: 0.5721 - val_loss: 1.1889 - val_acc: 0.5884\n",
      "Epoch 5/50\n",
      "40000/40000 [==============================] - 173s 4ms/step - loss: 1.0794 - acc: 0.6130 - val_loss: 1.0177 - val_acc: 0.6395\n",
      "Epoch 6/50\n",
      "40000/40000 [==============================] - 175s 4ms/step - loss: 0.9672 - acc: 0.6562 - val_loss: 0.9255 - val_acc: 0.6734\n",
      "Epoch 7/50\n",
      "40000/40000 [==============================] - 176s 4ms/step - loss: 0.9029 - acc: 0.6780 - val_loss: 0.9071 - val_acc: 0.6890\n",
      "Epoch 8/50\n",
      "40000/40000 [==============================] - 174s 4ms/step - loss: 0.8342 - acc: 0.7031 - val_loss: 0.9234 - val_acc: 0.6823\n",
      "Epoch 9/50\n",
      "40000/40000 [==============================] - 173s 4ms/step - loss: 0.7819 - acc: 0.7229 - val_loss: 0.8255 - val_acc: 0.7144\n",
      "Epoch 10/50\n",
      "40000/40000 [==============================] - 170s 4ms/step - loss: 0.7195 - acc: 0.7478 - val_loss: 0.7556 - val_acc: 0.7339\n",
      "Epoch 11/50\n",
      "40000/40000 [==============================] - 170s 4ms/step - loss: 0.6644 - acc: 0.7650 - val_loss: 0.7403 - val_acc: 0.7388\n",
      "Epoch 12/50\n",
      "40000/40000 [==============================] - 170s 4ms/step - loss: 0.6278 - acc: 0.7781 - val_loss: 0.7241 - val_acc: 0.7504\n",
      "Epoch 13/50\n",
      "40000/40000 [==============================] - 175s 4ms/step - loss: 0.5801 - acc: 0.7952 - val_loss: 0.7346 - val_acc: 0.7517\n",
      "Epoch 14/50\n",
      "40000/40000 [==============================] - 174s 4ms/step - loss: 0.5466 - acc: 0.8054 - val_loss: 0.6860 - val_acc: 0.7644\n",
      "Epoch 15/50\n",
      "40000/40000 [==============================] - 176s 4ms/step - loss: 0.5102 - acc: 0.8197 - val_loss: 0.7100 - val_acc: 0.7620\n",
      "Epoch 16/50\n",
      "40000/40000 [==============================] - 174s 4ms/step - loss: 0.4750 - acc: 0.8312 - val_loss: 0.6940 - val_acc: 0.7701\n",
      "Epoch 17/50\n",
      "40000/40000 [==============================] - 176s 4ms/step - loss: 0.4443 - acc: 0.8413 - val_loss: 0.6779 - val_acc: 0.7768\n",
      "Epoch 18/50\n",
      "40000/40000 [==============================] - 174s 4ms/step - loss: 0.4092 - acc: 0.8533 - val_loss: 0.6891 - val_acc: 0.7714\n",
      "Epoch 19/50\n",
      "40000/40000 [==============================] - 175s 4ms/step - loss: 0.3886 - acc: 0.8609 - val_loss: 0.6696 - val_acc: 0.7843\n",
      "Epoch 20/50\n",
      "40000/40000 [==============================] - 175s 4ms/step - loss: 0.3672 - acc: 0.8674 - val_loss: 0.6956 - val_acc: 0.7840\n",
      "Epoch 21/50\n",
      "40000/40000 [==============================] - 174s 4ms/step - loss: 0.3454 - acc: 0.8759 - val_loss: 0.7012 - val_acc: 0.7704\n",
      "Epoch 22/50\n",
      "40000/40000 [==============================] - 175s 4ms/step - loss: 0.3341 - acc: 0.8803 - val_loss: 0.7133 - val_acc: 0.7727\n",
      "Epoch 23/50\n",
      "40000/40000 [==============================] - 176s 4ms/step - loss: 0.3055 - acc: 0.8904 - val_loss: 0.6824 - val_acc: 0.7871\n",
      "Epoch 24/50\n",
      "40000/40000 [==============================] - 172s 4ms/step - loss: 0.2941 - acc: 0.8944 - val_loss: 0.7078 - val_acc: 0.7874\n",
      "Epoch 25/50\n",
      "40000/40000 [==============================] - 173s 4ms/step - loss: 0.2784 - acc: 0.9011 - val_loss: 0.7257 - val_acc: 0.7850\n",
      "Epoch 26/50\n",
      "40000/40000 [==============================] - 175s 4ms/step - loss: 0.2644 - acc: 0.9067 - val_loss: 0.7440 - val_acc: 0.7799\n",
      "Epoch 27/50\n",
      "40000/40000 [==============================] - 174s 4ms/step - loss: 0.2515 - acc: 0.9112 - val_loss: 0.7547 - val_acc: 0.7782\n",
      "Epoch 28/50\n",
      "40000/40000 [==============================] - 177s 4ms/step - loss: 0.2440 - acc: 0.9148 - val_loss: 0.7267 - val_acc: 0.7843\n",
      "Epoch 29/50\n",
      "40000/40000 [==============================] - 180s 4ms/step - loss: 0.2258 - acc: 0.9197 - val_loss: 0.7315 - val_acc: 0.7900\n",
      "Epoch 30/50\n",
      "40000/40000 [==============================] - 179s 4ms/step - loss: 0.2238 - acc: 0.9201 - val_loss: 0.7612 - val_acc: 0.7830\n",
      "Epoch 31/50\n",
      "40000/40000 [==============================] - 180s 4ms/step - loss: 0.2137 - acc: 0.9243 - val_loss: 0.7465 - val_acc: 0.7858\n",
      "Epoch 32/50\n",
      "40000/40000 [==============================] - 182s 5ms/step - loss: 0.2175 - acc: 0.9234 - val_loss: 0.7714 - val_acc: 0.7838\n",
      "Epoch 33/50\n",
      "40000/40000 [==============================] - 180s 5ms/step - loss: 0.2053 - acc: 0.9283 - val_loss: 0.7579 - val_acc: 0.7921\n",
      "Epoch 34/50\n",
      "40000/40000 [==============================] - 185s 5ms/step - loss: 0.2018 - acc: 0.9289 - val_loss: 0.7393 - val_acc: 0.7917\n",
      "Epoch 35/50\n",
      "40000/40000 [==============================] - 183s 5ms/step - loss: 0.1890 - acc: 0.9345 - val_loss: 0.7321 - val_acc: 0.7958\n",
      "Epoch 36/50\n",
      "40000/40000 [==============================] - 182s 5ms/step - loss: 0.1845 - acc: 0.9362 - val_loss: 0.7818 - val_acc: 0.7889\n",
      "Epoch 37/50\n",
      "40000/40000 [==============================] - 185s 5ms/step - loss: 0.1780 - acc: 0.9375 - val_loss: 0.7402 - val_acc: 0.7951\n",
      "Epoch 38/50\n",
      "40000/40000 [==============================] - 180s 5ms/step - loss: 0.1726 - acc: 0.9396 - val_loss: 0.7568 - val_acc: 0.7903\n",
      "Epoch 39/50\n",
      "40000/40000 [==============================] - 180s 4ms/step - loss: 0.1713 - acc: 0.9397 - val_loss: 0.7950 - val_acc: 0.7879\n",
      "Epoch 40/50\n",
      "40000/40000 [==============================] - 185s 5ms/step - loss: 0.1718 - acc: 0.9405 - val_loss: 0.7391 - val_acc: 0.7959\n",
      "Epoch 41/50\n",
      "40000/40000 [==============================] - 177s 4ms/step - loss: 0.1638 - acc: 0.9433 - val_loss: 0.7963 - val_acc: 0.7897\n",
      "Epoch 42/50\n",
      "40000/40000 [==============================] - 184s 5ms/step - loss: 0.1634 - acc: 0.9422 - val_loss: 0.7940 - val_acc: 0.7882\n",
      "Epoch 43/50\n",
      "40000/40000 [==============================] - 182s 5ms/step - loss: 0.1602 - acc: 0.9448 - val_loss: 0.7889 - val_acc: 0.7911\n",
      "Epoch 44/50\n",
      "40000/40000 [==============================] - 182s 5ms/step - loss: 0.1531 - acc: 0.9469 - val_loss: 0.8338 - val_acc: 0.7877\n",
      "Epoch 45/50\n",
      "40000/40000 [==============================] - 177s 4ms/step - loss: 0.1534 - acc: 0.9472 - val_loss: 0.8386 - val_acc: 0.7832\n",
      "Epoch 46/50\n",
      "40000/40000 [==============================] - 177s 4ms/step - loss: 0.1525 - acc: 0.9478 - val_loss: 0.7756 - val_acc: 0.7880\n",
      "Epoch 47/50\n",
      "40000/40000 [==============================] - 176s 4ms/step - loss: 0.1491 - acc: 0.9485 - val_loss: 0.7770 - val_acc: 0.7932\n",
      "Epoch 48/50\n",
      "40000/40000 [==============================] - 183s 5ms/step - loss: 0.1543 - acc: 0.9471 - val_loss: 0.7624 - val_acc: 0.8006\n",
      "Epoch 49/50\n",
      "21000/40000 [==============>...............] - ETA: 1:21 - loss: 0.1356 - acc: 0.9533"
     ]
    }
   ],
   "source": [
    "train_history=model.fit(x_image_train_normalize,y_label_train_Onehot,validation_split=0.2,epochs=50,batch_size=300,verbose=1)"
   ]
  },
  {
   "cell_type": "code",
   "execution_count": null,
   "metadata": {},
   "outputs": [],
   "source": [
    "scores = model.evaluate (x_image_test_normalize,y_label_test_Onehot,verbose=0)    #评估模型准确率\n",
    "scores[1]"
   ]
  }
 ],
 "metadata": {
  "kernelspec": {
   "display_name": "Python 3",
   "language": "python",
   "name": "python3"
  },
  "language_info": {
   "codemirror_mode": {
    "name": "ipython",
    "version": 3
   },
   "file_extension": ".py",
   "mimetype": "text/x-python",
   "name": "python",
   "nbconvert_exporter": "python",
   "pygments_lexer": "ipython3",
   "version": "3.6.5"
  }
 },
 "nbformat": 4,
 "nbformat_minor": 2
}
